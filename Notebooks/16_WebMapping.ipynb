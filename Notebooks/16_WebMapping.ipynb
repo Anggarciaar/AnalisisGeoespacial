{
 "cells": [
  {
   "cell_type": "markdown",
   "metadata": {},
   "source": [
    "**CURSO**: Análisis Geoespacial, Departamento de Geociencias y Medio Ambiente, Universidad Nacional de Colombia - sede Medellín <br/>\n",
    "**Profesor**: Edier Aristizábal (evaristizabalg@unal.edu.co) <br />\n",
    "**Classroom code**: [32cjlau] <br />\n",
    "**Credits**: The content of this notebook is taken from several sources, mainly fromcreated an alternative world map and reflected what will happen to the situation in the country if certain parameters change. Since we do data visualization, and not geopolitics, we refrained from evaluating this data in any way. We employed a t-SNE machine learning algorithm to process data, and you are left to play with the unemployment rate, health care costs and other characteristics.. Every effort has been made to trace copyright holders of the materials used in this book. The author apologies for any unintentional omissions and would be pleased to add an acknowledgment in future editions."
   ]
  },
  {
   "cell_type": "markdown",
   "metadata": {},
   "source": []
  },
  {
   "cell_type": "markdown",
   "metadata": {},
   "source": [
    "It has been created an alternative world map and reflected what will happen to the situation in the country if certain parameters change. Since we do data visualization, and not geopolitics, we refrained from evaluating this data in any way. They employed a t-SNE machine learning algorithm to process data, and you are left to play with the unemployment rate, health care costs and other characteristics.\n",
    "\n",
    "https://projects.interacta.io/country-tsne/"
   ]
  }
 ],
 "metadata": {
  "kernelspec": {
   "display_name": "Python 3",
   "language": "python",
   "name": "python3"
  },
  "language_info": {
   "codemirror_mode": {
    "name": "ipython",
    "version": 3
   },
   "file_extension": ".py",
   "mimetype": "text/x-python",
   "name": "python",
   "nbconvert_exporter": "python",
   "pygments_lexer": "ipython3",
   "version": "3.8.6"
  }
 },
 "nbformat": 4,
 "nbformat_minor": 4
}
