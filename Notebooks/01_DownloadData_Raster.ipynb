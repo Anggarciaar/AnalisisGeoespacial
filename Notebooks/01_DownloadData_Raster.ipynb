{
 "cells": [
  {
   "cell_type": "markdown",
   "metadata": {},
   "source": [
    "**CURSO**: Análisis Geoespacial, Departamento de Geociencias y Medio Ambiente, Universidad Nacional de Colombia - sede Medellín <br/>\n",
    "**Profesor**: Edier Aristizábal (evaristizabalg@unal.edu.co) <br />\n",
    "**Classroom code**: [32cjlau] <br />\n",
    "**Credits**: The content of this notebook is taken from several sources, such as: [open-geo-tutorial](https://github.com/ceholden/open-geo-tutorial), [geohackweek](https://geohackweek.github.io/raster/). Every effort has been made to trace copyright holders of the materials used in this book. The author apologies for any unintentional omissions and would be pleased to add an acknowledgment in future editions. "
   ]
  },
  {
   "cell_type": "markdown",
   "metadata": {},
   "source": [
    "# Importar datos raster"
   ]
  },
  {
   "cell_type": "markdown",
   "metadata": {},
   "source": [
    "## Archivos ASCII"
   ]
  },
  {
   "cell_type": "code",
   "execution_count": null,
   "metadata": {},
   "outputs": [],
   "source": [
    "import numpy as np\n",
    "import matplotlib.pyplot as plt"
   ]
  },
  {
   "cell_type": "code",
   "execution_count": null,
   "metadata": {},
   "outputs": [],
   "source": [
    "geologia=np.loadtxt(r'G:\\My Drive\\CATEDRA\\MACHINE LEARNING\\datos\\raster/gamma.asc', skiprows=6)\n",
    "geologia=np.where(geologia==-9999.,np.nan,geologia)\n",
    "plt.imshow(geologia)\n",
    "plt.colorbar();"
   ]
  },
  {
   "cell_type": "markdown",
   "metadata": {},
   "source": [
    "## Archivos TXT"
   ]
  },
  {
   "cell_type": "code",
   "execution_count": null,
   "metadata": {},
   "outputs": [],
   "source": [
    "FS_hazard  = np.genfromtxt(r'G:\\My Drive\\INVESTIGACION\\PAPERS\\ELABORACION\\SHIA_George\\resultados/PR_AMEACA.txt')\n",
    "FS_hazard = np.where(FS_hazard==-9999.,np.nan,FS_hazard)\n",
    "plt.imshow(FS_hazard)\n",
    "plt.colorbar();"
   ]
  },
  {
   "cell_type": "markdown",
   "metadata": {},
   "source": [
    "## Geospatial Libraries"
   ]
  },
  {
   "cell_type": "markdown",
   "metadata": {},
   "source": [
    "**Gdal**: [GDAL](https://gdal.org/) (Geospatial Data Abstraction Library) is a translator library for raster and vector geospatial data formats."
   ]
  },
  {
   "cell_type": "code",
   "execution_count": null,
   "metadata": {
    "colab": {},
    "colab_type": "code",
    "id": "jkFLCpjUrZT5"
   },
   "outputs": [],
   "source": [
    "from osgeo import gdal"
   ]
  },
  {
   "cell_type": "markdown",
   "metadata": {},
   "source": [
    "**Rasterio**:  [Rasterio](https://rasterio.readthedocs.io/en/latest/) is a Geographic information systems use GeoTIFF and other formats to organize and store gridded raster datasets such as satellite imagery and terrain models. Rasterio reads and writes these formats and provides a Python API based on Numpy N-dimensional arrays and GeoJSON."
   ]
  },
  {
   "cell_type": "code",
   "execution_count": null,
   "metadata": {},
   "outputs": [],
   "source": [
    "import rasterio as rio"
   ]
  },
  {
   "cell_type": "code",
   "execution_count": null,
   "metadata": {},
   "outputs": [],
   "source": [
    "#importar una imagen (banda)\n",
    "data = gdal.Open(\"https://landsat-pds.s3.amazonaws.com/c1/L8/009/056/LC08_L1TP_009056_20210228_20210228_01_RT/LC08_L1TP_009056_20210228_20210228_01_RT_B3.TIF\")"
   ]
  },
  {
   "cell_type": "code",
   "execution_count": null,
   "metadata": {},
   "outputs": [],
   "source": [
    "#para obtener el gdal.band\n",
    "banda = data.GetRasterBand(1)\n",
    "\n",
    "#para convertirlo en array\n",
    "b4 = banda.ReadAsArray()\n",
    "\n",
    "#para graficar uan matriz se utiliza la funcion imshow\n",
    "import matplotlib.pyplot as plt\n",
    "plt.imshow(b4)\n",
    "plt.colorbar()"
   ]
  },
  {
   "cell_type": "code",
   "execution_count": null,
   "metadata": {},
   "outputs": [],
   "source": [
    "#importar uan imagen compuesta\n",
    "composite = gdal.Open(r'G:\\My Drive\\CATEDRA\\SENSORES REMOTOS\\Imagen\\barranquilla\\Composite_LE70090532003066EDC00.tif')\n",
    "\n",
    "#para saber el número de bandas\n",
    "print(composite.RasterCount)"
   ]
  },
  {
   "cell_type": "markdown",
   "metadata": {},
   "source": [
    "## Sat_search"
   ]
  },
  {
   "cell_type": "code",
   "execution_count": null,
   "metadata": {},
   "outputs": [],
   "source": [
    "!pip install sat-search"
   ]
  },
  {
   "cell_type": "code",
   "execution_count": null,
   "metadata": {},
   "outputs": [],
   "source": [
    "import satsearch\n",
    "from satsearch import Search"
   ]
  },
  {
   "cell_type": "code",
   "execution_count": null,
   "metadata": {},
   "outputs": [],
   "source": [
    "bbox = [ 11.756057739257812,\n",
    "          57.649809962218995,\n",
    "          12.10693359375,\n",
    "          57.751442372568924\n",
    "       ]\n",
    "\n",
    "url = 'https://earth-search.aws.element84.com/v0'\n",
    "bbox_search = Search(\n",
    "    bbox=bbox,\n",
    "    datetime=\"2020-10-01/2021-02-01\",\n",
    "    query={\"eo:cloud_cover\": {\"lt\": 1}},\n",
    "    collections=[\"sentinel-s2-l2a-cogs\"],\n",
    "    url=url,\n",
    ")\n",
    "items = bbox_search.items()\n",
    "print(items.summary())"
   ]
  },
  {
   "cell_type": "code",
   "execution_count": null,
   "metadata": {},
   "outputs": [],
   "source": [
    "from IPython.display import JSON\n",
    "JSON(items[0].assets)"
   ]
  },
  {
   "cell_type": "code",
   "execution_count": null,
   "metadata": {},
   "outputs": [],
   "source": [
    "# Read and open(B4 and B8)\n",
    "b4 = rio.open(items[0].asset(\"red\")[\"href\"])\n",
    "red = b4.read()"
   ]
  },
  {
   "cell_type": "code",
   "execution_count": null,
   "metadata": {},
   "outputs": [],
   "source": [
    "from rasterio.plot import show\n",
    "fig, ax = plt.subplots(figsize=(8,6))\n",
    "show(red,cmap=\"viridis\", ax=ax)"
   ]
  },
  {
   "cell_type": "code",
   "execution_count": null,
   "metadata": {},
   "outputs": [],
   "source": [
    "# NOTE this STAC API endpoint does not currently search the entire catalog\n",
    "\n",
    "bbox = (-124.71, 45.47, -116.78, 48.93) #(west, south, east, north)\n",
    "\n",
    "timeRange = '2019-01-01/2020-10-01'\n",
    "\n",
    "# STAC metadata properties\n",
    "properties =  ['eo:row=027',\n",
    "               'eo:column=047',\n",
    "               'landsat:tier=T1']\n",
    "\n",
    "results = Search.search(collection='landsat-8-l1',\n",
    "                        bbox=bbox,\n",
    "                        datetime=timeRange,\n",
    "                        property=properties,\n",
    "                        sort=['<datetime'],\n",
    "                        url=url,\n",
    "                        )\n",
    "\n",
    "print('%s items' % results.found())\n",
    "items = results.items()\n",
    "items.save('subset.geojson')"
   ]
  },
  {
   "cell_type": "code",
   "execution_count": null,
   "metadata": {},
   "outputs": [],
   "source": [
    "import geopandas as gpd\n",
    "gf = gpd.read_file(\"subset.geojson\")\n",
    "gf.head()"
   ]
  },
  {
   "cell_type": "code",
   "execution_count": null,
   "metadata": {},
   "outputs": [],
   "source": [
    "from ipywidgets import interact\n",
    "from IPython.display import display, Image\n",
    "\n",
    "def browse_images(items):\n",
    "    n = len(items)\n",
    "\n",
    "    def view_image(i=0):\n",
    "        item = items[i]\n",
    "        print(f\"id={item.id}\\tdate={item.datetime}\\tcloud%={item['eo:cloud_cover']}\")\n",
    "        display(Image(item.asset('thumbnail')['href']))\n",
    "\n",
    "    interact(view_image, i=(0,n-1))"
   ]
  },
  {
   "cell_type": "code",
   "execution_count": null,
   "metadata": {},
   "outputs": [],
   "source": [
    "browse_images(items)"
   ]
  },
  {
   "cell_type": "code",
   "execution_count": null,
   "metadata": {},
   "outputs": [],
   "source": [
    "polygon = {\n",
    "    \"type\": \"Polygon\",\n",
    "    \"coordinates\": [\n",
    "        [\n",
    "            [11.756057739257812, 57.649809962218995],\n",
    "            [12.10693359375, 57.649809962218995],\n",
    "            [12.10693359375, 57.751442372568924],\n",
    "            [11.756057739257812, 57.751442372568924],\n",
    "            [11.756057739257812, 57.649809962218995],\n",
    "        ]\n",
    "    ],\n",
    "}\n",
    "\n",
    "intersect_search = Search(intersects=polygon, url=url)\n",
    "print('Query returned {} items'.format(bbox_search.found()))"
   ]
  },
  {
   "cell_type": "markdown",
   "metadata": {
    "colab_type": "text",
    "id": "aUPnXoSHrZTN"
   },
   "source": [
    "## Sentinel"
   ]
  },
  {
   "cell_type": "code",
   "execution_count": null,
   "metadata": {
    "colab": {},
    "colab_type": "code",
    "executionInfo": {
     "elapsed": 526,
     "status": "ok",
     "timestamp": 1599232422640,
     "user": {
      "displayName": "Edier Vicente Aristizabal Giraldo",
      "photoUrl": "https://lh3.googleusercontent.com/a-/AOh14Gg0afJy-VHb9gW5tEA0EUfeVH2ZsMGtzgPJG3UL=s64",
      "userId": "14756502124163770629"
     },
     "user_tz": 300
    },
    "id": "GwDLuczJrZTX"
   },
   "outputs": [],
   "source": [
    "import os\n",
    "from shapely.geometry import MultiPolygon, Polygon"
   ]
  },
  {
   "cell_type": "code",
   "execution_count": null,
   "metadata": {
    "colab": {},
    "colab_type": "code",
    "id": "TTjKjvN8rZTa"
   },
   "outputs": [],
   "source": [
    "import sentinelsat\n",
    "from sentinelsat import SentinelAPI, read_geojson, geojson_to_wkt\n",
    "from datetime import date"
   ]
  },
  {
   "cell_type": "code",
   "execution_count": null,
   "metadata": {
    "colab": {},
    "colab_type": "code",
    "id": "0J_SB1-JrZTd"
   },
   "outputs": [],
   "source": [
    "user = 'edieraristizabal' \n",
    "file = open(\"Clave Copernicus.txt\", \"r\")\n",
    "for line in file:\n",
    "    password = file.readlines()\n",
    "\n",
    "api = SentinelAPI(user, password[2], 'https://scihub.copernicus.eu/dhus')"
   ]
  },
  {
   "cell_type": "code",
   "execution_count": null,
   "metadata": {},
   "outputs": [],
   "source": [
    "footprint = geojson_to_wkt(read_geojson('map.geojson')) # el poligono debe ser sencillo, si tiene mucho vertice como un mapa genera error"
   ]
  },
  {
   "cell_type": "code",
   "execution_count": null,
   "metadata": {
    "colab": {},
    "colab_type": "code",
    "id": "aKeqpI-krZTg"
   },
   "outputs": [],
   "source": [
    "aoi=\"POINT(6.15 -75.31)\""
   ]
  },
  {
   "cell_type": "code",
   "execution_count": null,
   "metadata": {
    "colab": {},
    "colab_type": "code",
    "id": "cK4KwRR0rZTl"
   },
   "outputs": [],
   "source": [
    "products = api.query(aoi, date=('20210101', '20210228'), platformname = 'Sentinel-2', cloudcoverpercentage = (0,20))"
   ]
  },
  {
   "cell_type": "code",
   "execution_count": null,
   "metadata": {
    "colab": {},
    "colab_type": "code",
    "id": "JzaE46m7rZTo",
    "outputId": "d58c2126-b35b-496b-a186-309e2c49e64b"
   },
   "outputs": [],
   "source": [
    "len(products)"
   ]
  },
  {
   "cell_type": "code",
   "execution_count": null,
   "metadata": {
    "colab": {},
    "colab_type": "code",
    "id": "PKLi6LgtrZTs",
    "outputId": "99597dfa-d14d-4b45-f78e-7fba042696e9"
   },
   "outputs": [],
   "source": [
    "products_gdf = api.to_dataframe(products)\n",
    "products_gdf_sorted = products_gdf.sort_values(['cloudcoverpercentage'], ascending=[True])\n",
    "products_gdf_sorted.head(3)"
   ]
  },
  {
   "cell_type": "code",
   "execution_count": null,
   "metadata": {
    "colab": {},
    "colab_type": "code",
    "id": "Nqbow4Z8rZTv",
    "outputId": "1385f7b8-e766-48ec-8cd8-a32b291a88a4"
   },
   "outputs": [],
   "source": [
    "api.download(\"b6986e18-1324-4fb6-a2e0-0658da90a3d0\")"
   ]
  },
  {
   "cell_type": "code",
   "execution_count": null,
   "metadata": {
    "colab": {},
    "colab_type": "code",
    "id": "s8FfRe1BrZTz",
    "outputId": "30699b6d-eedb-4050-8e79-7afc0efd6db8"
   },
   "outputs": [],
   "source": [
    "!unzip S2B_MSIL2A_20190220T080929_N0211_R049_T32CMB_20190220T115112.zip --quite"
   ]
  },
  {
   "cell_type": "code",
   "execution_count": null,
   "metadata": {
    "colab": {},
    "colab_type": "code",
    "id": "8kPdmzyGrZT3"
   },
   "outputs": [],
   "source": [
    "from zipfile import ZipFile\n",
    "ZipFile(\"S2B_MSIL2A_20191009T073939_N0213_R063_T32CMB_20191009T130037.zip\").extractall()"
   ]
  },
  {
   "cell_type": "code",
   "execution_count": null,
   "metadata": {
    "colab": {},
    "colab_type": "code",
    "id": "x3078KjdrZT8"
   },
   "outputs": [],
   "source": [
    "!gdalinfo S2B_MSIL2A_20191009T073939_N0213_R063_T32CMB_20191009T130037.zip"
   ]
  },
  {
   "cell_type": "code",
   "execution_count": null,
   "metadata": {
    "colab": {},
    "colab_type": "code",
    "id": "JXcBx1_arZUA"
   },
   "outputs": [],
   "source": [
    "!gdalinfo S2B_MSIL2A_20191009T073939_N0213_R063_T32CMB_20191009T130037.SAFE\\MTD_MSIL2A.xml"
   ]
  },
  {
   "cell_type": "markdown",
   "metadata": {
    "colab_type": "text",
    "id": "IoHZsEdzrZUD"
   },
   "source": [
    "Tener en cuenta la primera parte del archivo SENTINEL2_L2A, la ultima parte puede cambiar de acuerdo con el nivel de procesamiento de la imagen 'L1C', etc. Al igual que el CRS en términos de EPSG, el cual puede ser obtenido de la función anterior."
   ]
  },
  {
   "cell_type": "code",
   "execution_count": null,
   "metadata": {
    "colab": {},
    "colab_type": "code",
    "id": "5_BtTowlrZUE"
   },
   "outputs": [],
   "source": [
    "!gdalinfo S2B_MSIL2A_20191009T073939_N0213_R063_T32CMB_20191009T130037.SAFE\\MTD_MSIL2A.xml:10m:EPSG_32732"
   ]
  },
  {
   "cell_type": "code",
   "execution_count": null,
   "metadata": {
    "colab": {},
    "colab_type": "code",
    "id": "o0fEUPEFrZUH",
    "outputId": "d3e5f3f1-66d5-43cf-e96a-37917fe24136"
   },
   "outputs": [],
   "source": [
    "!gdal_translate SENTINEL2_L2A:S2B_MSIL2A_20191009T073939_N0213_R063_T32CMB_20191009T130037.SAFE\\MTD_MSIL2A.xml:10m:EPSG_32732 \\\n",
    "                 10m.tif \\\n",
    "                 -co TILED=YES --config GDAL_CACHEMAX 1000 --config GDAL_NUM_THREADS 2"
   ]
  },
  {
   "cell_type": "code",
   "execution_count": null,
   "metadata": {
    "colab": {},
    "colab_type": "code",
    "id": "CUtCo26TrZUK",
    "outputId": "71edf2b3-71dc-4c42-87ca-5f43edb6c24d"
   },
   "outputs": [],
   "source": [
    "dataset = gdal.Open('10m.tif')\n",
    "print(dataset)"
   ]
  },
  {
   "cell_type": "code",
   "execution_count": null,
   "metadata": {
    "colab": {},
    "colab_type": "code",
    "id": "tJVAuNszrZUN",
    "outputId": "aa8283ca-6100-457d-c040-e2e2f0e937f9"
   },
   "outputs": [],
   "source": [
    "num_bands = dataset.RasterCount\n",
    "print('Number of bands in image: {n}\\n'.format(n=num_bands))"
   ]
  },
  {
   "cell_type": "code",
   "execution_count": null,
   "metadata": {
    "colab": {},
    "colab_type": "code",
    "id": "m1CsIt-jrZUQ",
    "outputId": "f3a8dea7-a5cc-4272-e380-73a6745c153f"
   },
   "outputs": [],
   "source": [
    "b4 = dataset.GetRasterBand(4)\n",
    "b4 = b4.ReadAsArray()\n",
    "print(b4)"
   ]
  },
  {
   "cell_type": "code",
   "execution_count": null,
   "metadata": {
    "colab": {},
    "colab_type": "code",
    "id": "cmVJadcarZUY",
    "outputId": "2557a5bd-7bb9-4dfd-8914-c739bf2590d0"
   },
   "outputs": [],
   "source": [
    "b4=np.where(b4==0,np.nan,b4)\n",
    "fig, ax = plt.subplots(1, figsize=(10, 10))\n",
    "plt.imshow(b4)\n",
    "plt.colorbar();\n"
   ]
  },
  {
   "cell_type": "markdown",
   "metadata": {},
   "source": [
    "## AWS\n",
    "\n",
    "Landsat 8 data is available for anyone to use via Amazon S3. All Landsat 8 scenes are available from the start of imagery capture. All new Landsat 8 scenes are made available each day, often within hours of production.\n",
    "\n",
    "The Landsat program is a joint effort of the U.S. Geological Survey and NASA. First launched in 1972, the Landsat series of satellites has produced the longest, continuous record of Earth’s land surface as seen from space. NASA is in charge of developing remote-sensing instruments and spacecraft, launching the satellites, and validating their performance. USGS develops the associated ground systems, then takes ownership and operates the satellites, as well as managing data reception, archiving, and distribution. Since late 2008, Landsat data have been made available to all users free of charge. Carefully calibrated Landsat imagery provides the U.S. and the world with a long-term, consistent inventory of vitally important global resources.\n",
    "\n",
    "AWS has made Landsat 8 data freely available on Amazon S3 so that anyone can use our on-demand computing resources to perform analysis and create new products without needing to worry about the cost of storing Landsat data or the time required to download it.\n",
    "\n",
    "### Accessing Landsat on [AWS](https://registry.opendata.aws/landsat-8/)\n",
    "The data are organized using a directory structure based on each scene’s path and row. For instance, the files for Landsat scene LC08_L1TP_139045_20170304_20170316_01_T1 are available in the following location: \n",
    "\n",
    "s3://landsat-pds/c1/L8/139/045/LC08_L1TP_139045_20170304_20170316_01_T1/\n",
    "\n",
    "The “c1” refers to Collection 1, the “L8” refers to Landsat 8, “139” refers to the scene’s path, “045” refers to the scene’s row, and the final directory matches the product’s identifier, which uses the following naming convention: LXSS_LLLL_PPPRRR_YYYYMMDD_yyymmdd_CC_TX, in which:\n",
    "\n",
    "- L = Landsat\n",
    "- X = Sensor\n",
    "- SS = Satellite\n",
    "- PPP = WRS path\n",
    "- RRR = WRS row\n",
    "- YYYYMMDD = Acquisition date\n",
    "- yyyymmdd = Processing date\n",
    "- CC = Collection number\n",
    "- TX = Collection category\n",
    "\n",
    "In this case, the scene corresponds to WRS path 139, WRS row 045, and was taken on March 4th, 2017.\n",
    "\n",
    "Each scene’s directory includes:\n",
    "\n",
    "- a .TIF GeoTIFF for each of the scene’s up to 12 bands (note that the GeoTIFFs include 512x512 internal tiling)\n",
    ".TIF.ovr overview file for each .TIF (useful in GDAL based applications)\n",
    "- a _MTL.txt metadata file\n",
    "- a small rgb preview jpeg, 3 percent of the original size\n",
    "- a larger rgb preview jpeg, 15 percent of the original size\n",
    "- an index.html file that can be viewed in a browser to see the RGB preview and links to the GeoTIFFs and metadata files\n",
    "\n",
    "For instance, the files associated with scene LO08_L1TP_009056_20201108_20201120_01_T1 are available at:\n",
    "\n",
    "s3://landsat-pds/c1/L8/009/056/LC08_L1TP_009056_20201108_20201120_01_T1/\n",
    "\n",
    "or\n",
    "\n",
    "https://landsat-pds.s3.amazonaws.com/c1/L8/009/056/LO08_L1TP_009056_20201108_20201120_01_T1/index.html\n",
    "\n",
    "A gzipped csv describing all available scenes is available at\n",
    "\n",
    "s3://landsat-pds/scene_list.gz\n",
    "\n",
    "or\n",
    "\n",
    "https://landsat-pds.s3.amazonaws.com/c1/L8/scene_list.gz\n",
    "\n",
    "\n",
    "\n",
    "https://aws.amazon.com/blogs/aws/start-using-landsat-on-aws/"
   ]
  },
  {
   "cell_type": "code",
   "execution_count": null,
   "metadata": {},
   "outputs": [],
   "source": [
    "path = 'https://landsat-pds.s3.amazonaws.com/c1/L8/009/056/LC08_L1TP_009056_20210228_20210228_01_RT/LC08_L1TP_009056_20210228_20210228_01_RT_B1.TIF'\n",
    "dataset = gdal.Open(path)\n",
    "b2 = dataset.GetRasterBand(1)\n",
    "b2 = b2.ReadAsArray()\n",
    "print(b2)"
   ]
  },
  {
   "cell_type": "code",
   "execution_count": null,
   "metadata": {},
   "outputs": [],
   "source": [
    "print(dataset.RasterCount)"
   ]
  },
  {
   "cell_type": "code",
   "execution_count": null,
   "metadata": {},
   "outputs": [],
   "source": [
    "b2=np.where(b2==0,np.nan,b2)\n",
    "fig, ax = plt.subplots(1, figsize=(10, 10))\n",
    "plt.imshow(b2)\n",
    "plt.colorbar();"
   ]
  },
  {
   "cell_type": "markdown",
   "metadata": {},
   "source": [
    "## Google Cloud\n",
    "\n",
    "[Cloud Storage](https://cloud.google.com/storage/docs) allows world-wide storage and retrieval of any amount of data at any time. You can use Cloud Storage for a range of scenarios including serving website content, storing data for archival and disaster recovery, or distributing large data objects to users via direct download.\n",
    "\n",
    "Cloud Storage provides a variety of public datasets that can be accessed by the community and integrated into their applications. Google pays for the hosting of these datasets, providing public access to the data via the Google Cloud Console, gsutil, or with the Cloud Storage API.\n",
    "\n",
    "### Available public datasets on Cloud Storage\n",
    "- [Landsat](https://console.cloud.google.com/storage/browser/gcp-public-data-landsat?pageState=(%22StorageObjectListTable%22:(%22f%22:%22%255B%255D%22))&prefix=&forceOnObjectsSortingFiltering=false): A satellite image dataset from the United States Geological Survey (USGS) and NASA that includes millions of multispectral images of the Earth's land surface, at resolutions of between 15 and 60 meters per pixel, from 1982 through the present.\n",
    "\n",
    "- [Sentinel-2](https://console.cloud.google.com/storage/browser/gcp-public-data-sentinel-2;tab=objects?_ga=2.243846213.1981017282.1614808297-1548957655.1604964455&prefix=&forceOnObjectsSortingFiltering=false): A satellite image dataset from the European Space Agency (ESA) that includes multispectral images of the Earth's land surface, with a resolution of 10–60 meters per pixel, from 2015 through the present.\n",
    "\n",
    "- [NEXRAD](https://console.cloud.google.com/storage/browser/gcp-public-data-nexrad-l2;tab=objects?_ga=2.244393029.1981017282.1614808297-1548957655.1604964455&prefix=&forceOnObjectsSortingFiltering=false): A weather radar dataset collected from a network of 160 high-resolution Doppler weather radars operated by the NOAA National Weather Service (NWS), the Federal Aviation Administration (FAA), and the U.S. Air Force (USAF)."
   ]
  },
  {
   "cell_type": "code",
   "execution_count": null,
   "metadata": {},
   "outputs": [],
   "source": [
    "url = \"https://storage.googleapis.com/gcp-public-data-landsat/LC08/01/042/034/LC08_L1TP_042034_20170616_20170629_01_T1/LC08_L1TP_042034_20170616_20170629_01_T1_B4.TIF\"\n",
    "\n",
    "l8 = gdal.Open(url)\n",
    "b4 = l8.GetRasterBand(1)\n",
    "b4 = b4.ReadAsArray()"
   ]
  },
  {
   "cell_type": "code",
   "execution_count": null,
   "metadata": {},
   "outputs": [],
   "source": [
    "b4=np.where(b4==0,np.nan,b4)\n",
    "fig, ax = plt.subplots(1, figsize=(10, 10))\n",
    "plt.imshow(b4)\n",
    "plt.colorbar();"
   ]
  },
  {
   "cell_type": "markdown",
   "metadata": {},
   "source": [
    "### Additional sources\n",
    "\n",
    "- [EarthAI](https://astraea.earth/platform/)"
   ]
  }
 ],
 "metadata": {
  "colab": {
   "name": "Download_sentinel.ipynb",
   "provenance": []
  },
  "kernelspec": {
   "display_name": "Python 3",
   "language": "python",
   "name": "python3"
  },
  "language_info": {
   "codemirror_mode": {
    "name": "ipython",
    "version": 3
   },
   "file_extension": ".py",
   "mimetype": "text/x-python",
   "name": "python",
   "nbconvert_exporter": "python",
   "pygments_lexer": "ipython3",
   "version": "3.8.6"
  }
 },
 "nbformat": 4,
 "nbformat_minor": 4
}
